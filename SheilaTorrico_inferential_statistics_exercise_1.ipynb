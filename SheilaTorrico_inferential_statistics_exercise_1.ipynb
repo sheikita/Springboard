{
 "cells": [
  {
   "cell_type": "markdown",
   "metadata": {},
   "source": [
    "# What is the True Normal Human Body Temperature? \n",
    "\n",
    "#### Background\n",
    "\n",
    "The mean normal body temperature was held to be 37$^{\\circ}$C or 98.6$^{\\circ}$F for more than 120 years since it was first conceptualized and reported by Carl Wunderlich in a famous 1868 book. But, is this value statistically correct?"
   ]
  },
  {
   "cell_type": "markdown",
   "metadata": {},
   "source": [
    "<h3>Exercises</h3>\n",
    "\n",
    "<p>In this exercise, you will analyze a dataset of human body temperatures and employ the concepts of hypothesis testing, confidence intervals, and statistical significance.</p>\n",
    "\n",
    "<p>Answer the following questions <b>in this notebook below and submit to your Github account</b>.</p> \n",
    "\n",
    "<ol>\n",
    "<li>  Is the distribution of body temperatures normal? \n",
    "    <ul>\n",
    "    <li> Although this is not a requirement for the Central Limit Theorem to hold (read the introduction on Wikipedia's page about the CLT carefully: https://en.wikipedia.org/wiki/Central_limit_theorem), it gives us some peace of mind that the population may also be normally distributed if we assume that this sample is representative of the population.\n",
    "    <li> Think about the way you're going to check for the normality of the distribution. Graphical methods are usually used first, but there are also other ways: https://en.wikipedia.org/wiki/Normality_test\n",
    "    </ul>\n",
    "<li>  Is the sample size large? Are the observations independent?\n",
    "    <ul>\n",
    "    <li> Remember that this is a condition for the Central Limit Theorem, and hence the statistical tests we are using, to apply.\n",
    "    </ul>\n",
    "<li>  Is the true population mean really 98.6 degrees F?\n",
    "    <ul>\n",
    "    <li> First, try a bootstrap hypothesis test.\n",
    "    <li> Now, let's try frequentist statistical testing. Would you use a one-sample or two-sample test? Why?\n",
    "    <li> In this situation, is it appropriate to use the $t$ or $z$ statistic? \n",
    "    <li> Now try using the other test. How is the result be different? Why?\n",
    "    </ul>\n",
    "<li>  Draw a small sample of size 10 from the data and repeat both frequentist tests. \n",
    "    <ul>\n",
    "    <li> Which one is the correct one to use? \n",
    "    <li> What do you notice? What does this tell you about the difference in application of the $t$ and $z$ statistic?\n",
    "    </ul>\n",
    "<li>  At what temperature should we consider someone's temperature to be \"abnormal\"?\n",
    "    <ul>\n",
    "    <li> As in the previous example, try calculating everything using the boostrap approach, as well as the frequentist approach.\n",
    "    <li> Start by computing the margin of error and confidence interval. When calculating the confidence interval, keep in mind that you should use the appropriate formula for one draw, and not N draws.\n",
    "    </ul>\n",
    "<li>  Is there a significant difference between males and females in normal temperature?\n",
    "    <ul>\n",
    "    <li> What testing approach did you use and why?\n",
    "    <li> Write a story with your conclusion in the context of the original problem.\n",
    "    </ul>\n",
    "</ol>\n",
    "\n",
    "You can include written notes in notebook cells using Markdown: \n",
    "   - In the control panel at the top, choose Cell > Cell Type > Markdown\n",
    "   - Markdown syntax: http://nestacms.com/docs/creating-content/markdown-cheat-sheet\n",
    "\n",
    "#### Resources\n",
    "\n",
    "+ Information and data sources: http://www.amstat.org/publications/jse/datasets/normtemp.txt, http://www.amstat.org/publications/jse/jse_data_archive.htm\n",
    "+ Markdown syntax: http://nestacms.com/docs/creating-content/markdown-cheat-sheet\n",
    "\n",
    "****"
   ]
  },
  {
   "cell_type": "code",
   "execution_count": 1,
   "metadata": {},
   "outputs": [],
   "source": [
    "import pandas as pd\n",
    "\n",
    "df = pd.read_csv('data/human_body_temperature.csv')"
   ]
  },
  {
   "cell_type": "code",
   "execution_count": 2,
   "metadata": {
    "scrolled": false
   },
   "outputs": [
    {
     "data": {
      "text/html": [
       "<div>\n",
       "<style scoped>\n",
       "    .dataframe tbody tr th:only-of-type {\n",
       "        vertical-align: middle;\n",
       "    }\n",
       "\n",
       "    .dataframe tbody tr th {\n",
       "        vertical-align: top;\n",
       "    }\n",
       "\n",
       "    .dataframe thead th {\n",
       "        text-align: right;\n",
       "    }\n",
       "</style>\n",
       "<table border=\"1\" class=\"dataframe\">\n",
       "  <thead>\n",
       "    <tr style=\"text-align: right;\">\n",
       "      <th></th>\n",
       "      <th>temperature</th>\n",
       "      <th>gender</th>\n",
       "      <th>heart_rate</th>\n",
       "    </tr>\n",
       "  </thead>\n",
       "  <tbody>\n",
       "    <tr>\n",
       "      <th>0</th>\n",
       "      <td>99.3</td>\n",
       "      <td>F</td>\n",
       "      <td>68.0</td>\n",
       "    </tr>\n",
       "    <tr>\n",
       "      <th>1</th>\n",
       "      <td>98.4</td>\n",
       "      <td>F</td>\n",
       "      <td>81.0</td>\n",
       "    </tr>\n",
       "    <tr>\n",
       "      <th>2</th>\n",
       "      <td>97.8</td>\n",
       "      <td>M</td>\n",
       "      <td>73.0</td>\n",
       "    </tr>\n",
       "    <tr>\n",
       "      <th>3</th>\n",
       "      <td>99.2</td>\n",
       "      <td>F</td>\n",
       "      <td>66.0</td>\n",
       "    </tr>\n",
       "    <tr>\n",
       "      <th>4</th>\n",
       "      <td>98.0</td>\n",
       "      <td>F</td>\n",
       "      <td>73.0</td>\n",
       "    </tr>\n",
       "    <tr>\n",
       "      <th>5</th>\n",
       "      <td>99.2</td>\n",
       "      <td>M</td>\n",
       "      <td>83.0</td>\n",
       "    </tr>\n",
       "    <tr>\n",
       "      <th>6</th>\n",
       "      <td>98.0</td>\n",
       "      <td>M</td>\n",
       "      <td>71.0</td>\n",
       "    </tr>\n",
       "    <tr>\n",
       "      <th>7</th>\n",
       "      <td>98.8</td>\n",
       "      <td>M</td>\n",
       "      <td>78.0</td>\n",
       "    </tr>\n",
       "    <tr>\n",
       "      <th>8</th>\n",
       "      <td>98.4</td>\n",
       "      <td>F</td>\n",
       "      <td>84.0</td>\n",
       "    </tr>\n",
       "    <tr>\n",
       "      <th>9</th>\n",
       "      <td>98.6</td>\n",
       "      <td>F</td>\n",
       "      <td>86.0</td>\n",
       "    </tr>\n",
       "  </tbody>\n",
       "</table>\n",
       "</div>"
      ],
      "text/plain": [
       "   temperature gender  heart_rate\n",
       "0         99.3      F        68.0\n",
       "1         98.4      F        81.0\n",
       "2         97.8      M        73.0\n",
       "3         99.2      F        66.0\n",
       "4         98.0      F        73.0\n",
       "5         99.2      M        83.0\n",
       "6         98.0      M        71.0\n",
       "7         98.8      M        78.0\n",
       "8         98.4      F        84.0\n",
       "9         98.6      F        86.0"
      ]
     },
     "execution_count": 2,
     "metadata": {},
     "output_type": "execute_result"
    }
   ],
   "source": [
    "df.head(10)"
   ]
  },
  {
   "cell_type": "code",
   "execution_count": 3,
   "metadata": {},
   "outputs": [
    {
     "data": {
      "text/html": [
       "<div>\n",
       "<style scoped>\n",
       "    .dataframe tbody tr th:only-of-type {\n",
       "        vertical-align: middle;\n",
       "    }\n",
       "\n",
       "    .dataframe tbody tr th {\n",
       "        vertical-align: top;\n",
       "    }\n",
       "\n",
       "    .dataframe thead th {\n",
       "        text-align: right;\n",
       "    }\n",
       "</style>\n",
       "<table border=\"1\" class=\"dataframe\">\n",
       "  <thead>\n",
       "    <tr style=\"text-align: right;\">\n",
       "      <th></th>\n",
       "      <th>temperature</th>\n",
       "      <th>heart_rate</th>\n",
       "    </tr>\n",
       "  </thead>\n",
       "  <tbody>\n",
       "    <tr>\n",
       "      <th>count</th>\n",
       "      <td>130.000000</td>\n",
       "      <td>130.000000</td>\n",
       "    </tr>\n",
       "    <tr>\n",
       "      <th>mean</th>\n",
       "      <td>98.249231</td>\n",
       "      <td>73.761538</td>\n",
       "    </tr>\n",
       "    <tr>\n",
       "      <th>std</th>\n",
       "      <td>0.733183</td>\n",
       "      <td>7.062077</td>\n",
       "    </tr>\n",
       "    <tr>\n",
       "      <th>min</th>\n",
       "      <td>96.300000</td>\n",
       "      <td>57.000000</td>\n",
       "    </tr>\n",
       "    <tr>\n",
       "      <th>25%</th>\n",
       "      <td>97.800000</td>\n",
       "      <td>69.000000</td>\n",
       "    </tr>\n",
       "    <tr>\n",
       "      <th>50%</th>\n",
       "      <td>98.300000</td>\n",
       "      <td>74.000000</td>\n",
       "    </tr>\n",
       "    <tr>\n",
       "      <th>75%</th>\n",
       "      <td>98.700000</td>\n",
       "      <td>79.000000</td>\n",
       "    </tr>\n",
       "    <tr>\n",
       "      <th>max</th>\n",
       "      <td>100.800000</td>\n",
       "      <td>89.000000</td>\n",
       "    </tr>\n",
       "  </tbody>\n",
       "</table>\n",
       "</div>"
      ],
      "text/plain": [
       "       temperature  heart_rate\n",
       "count   130.000000  130.000000\n",
       "mean     98.249231   73.761538\n",
       "std       0.733183    7.062077\n",
       "min      96.300000   57.000000\n",
       "25%      97.800000   69.000000\n",
       "50%      98.300000   74.000000\n",
       "75%      98.700000   79.000000\n",
       "max     100.800000   89.000000"
      ]
     },
     "execution_count": 3,
     "metadata": {},
     "output_type": "execute_result"
    }
   ],
   "source": [
    "df.describe()"
   ]
  },
  {
   "cell_type": "code",
   "execution_count": 3,
   "metadata": {},
   "outputs": [],
   "source": [
    "# Functions Used\n",
    "\n",
    "def ecdf(data):\n",
    "    \"\"\"Compute ECDF for a one-dimensional array of measurements.\"\"\"\n",
    "\n",
    "    # Number of data points: n\n",
    "    n = len(data)\n",
    "\n",
    "    # x: sort the data\n",
    "    x = np.sort(data)\n",
    "\n",
    "    # y: range for y-axis\n",
    "    y = np.arange(1, n+1) / n\n",
    "\n",
    "    return x, y"
   ]
  },
  {
   "cell_type": "code",
   "execution_count": 4,
   "metadata": {},
   "outputs": [
    {
     "name": "stdout",
     "output_type": "stream",
     "text": [
      "[ 99.3  98.4  97.8  99.2  98.   99.2  98.   98.8  98.4  98.6  98.8  96.7\n",
      "  98.2  98.7  97.8  98.8  98.3  98.2  97.2  99.4  98.3  98.2  98.6  98.4\n",
      "  97.8  98.   97.8  98.2  98.4  98.1  98.3  97.6  98.5  98.6  99.3  99.5\n",
      "  99.1  98.3  97.9  96.4  98.4  98.4  96.9  97.2  99.   97.9  97.4  97.4\n",
      "  97.9  97.1  98.9  98.3  98.5  98.6  98.2  98.6  98.8  98.2  98.2  97.6\n",
      "  99.1  98.4  98.2  98.6  98.7  97.4  97.4  98.6  98.7  98.9  98.1  97.7\n",
      "  98.   98.8  99.   98.8  98.   98.4  97.4  97.6  98.8  98.   97.5  99.2\n",
      "  98.6  97.1  98.6  98.   98.7  98.1  97.8 100.   98.8  97.1  97.8  96.8\n",
      "  99.9  98.7  98.8  98.   99.   98.5  98.   99.4  97.6  96.7  97.   98.6\n",
      "  98.7  97.3  98.8  98.   98.2  99.1  99.   98.  100.8  97.8  98.7  98.4\n",
      "  97.7  97.9  99.   97.2  97.5  96.3  97.7  98.2  97.9  98.7]\n"
     ]
    }
   ],
   "source": [
    "t_a = df['temperature'].values\n",
    "print(t_a)"
   ]
  },
  {
   "cell_type": "code",
   "execution_count": 5,
   "metadata": {},
   "outputs": [],
   "source": [
    "import numpy as np\n",
    "import matplotlib.pyplot as plt\n",
    "import seaborn as sns\n",
    "import scipy as sp\n",
    "import scipy.stats as stats\n",
    "import statsmodels.stats as smd\n",
    "import pylab\n",
    "t_a.sort()"
   ]
  },
  {
   "cell_type": "code",
   "execution_count": 6,
   "metadata": {},
   "outputs": [
    {
     "data": {
      "image/png": "[encoded data removed]",
      "text/plain": [
       "<matplotlib.figure.Figure at 0x1a0b75c668>"
      ]
     },
     "metadata": {},
     "output_type": "display_data"
    }
   ],
   "source": [
    "_ = plt.hist(t_a, bins=30, normed=True)\n",
    "_ = plt.xlabel('Obs Body Temperature')\n",
    "_ = plt.ylabel('Temperature Frequency')\n",
    "plt.show()"
   ]
  },
  {
   "cell_type": "markdown",
   "metadata": {},
   "source": [
    "## 1. Goal: Using the Average, Variance, show that Body Temperature tends to a Normal Distribution\n",
    "\n"
   ]
  },
  {
   "cell_type": "code",
   "execution_count": 7,
   "metadata": {
    "scrolled": true
   },
   "outputs": [
    {
     "name": "stdout",
     "output_type": "stream",
     "text": [
      "[-1.94923077 -1.84923077 -1.54923077 -1.54923077 -1.44923077 -1.34923077\n",
      " -1.24923077 -1.14923077 -1.14923077 -1.14923077 -1.04923077 -1.04923077\n",
      " -1.04923077 -0.94923077 -0.84923077 -0.84923077 -0.84923077 -0.84923077\n",
      " -0.84923077 -0.74923077 -0.74923077 -0.64923077 -0.64923077 -0.64923077\n",
      " -0.64923077 -0.54923077 -0.54923077 -0.54923077 -0.44923077 -0.44923077\n",
      " -0.44923077 -0.44923077 -0.44923077 -0.44923077 -0.44923077 -0.34923077\n",
      " -0.34923077 -0.34923077 -0.34923077 -0.34923077 -0.24923077 -0.24923077\n",
      " -0.24923077 -0.24923077 -0.24923077 -0.24923077 -0.24923077 -0.24923077\n",
      " -0.24923077 -0.24923077 -0.24923077 -0.14923077 -0.14923077 -0.14923077\n",
      " -0.04923077 -0.04923077 -0.04923077 -0.04923077 -0.04923077 -0.04923077\n",
      " -0.04923077 -0.04923077 -0.04923077 -0.04923077  0.05076923  0.05076923\n",
      "  0.05076923  0.05076923  0.05076923  0.15076923  0.15076923  0.15076923\n",
      "  0.15076923  0.15076923  0.15076923  0.15076923  0.15076923  0.15076923\n",
      "  0.25076923  0.25076923  0.25076923  0.35076923  0.35076923  0.35076923\n",
      "  0.35076923  0.35076923  0.35076923  0.35076923  0.35076923  0.35076923\n",
      "  0.35076923  0.45076923  0.45076923  0.45076923  0.45076923  0.45076923\n",
      "  0.45076923  0.45076923  0.45076923  0.55076923  0.55076923  0.55076923\n",
      "  0.55076923  0.55076923  0.55076923  0.55076923  0.55076923  0.55076923\n",
      "  0.55076923  0.65076923  0.65076923  0.75076923  0.75076923  0.75076923\n",
      "  0.75076923  0.75076923  0.85076923  0.85076923  0.85076923  0.95076923\n",
      "  0.95076923  0.95076923  1.05076923  1.05076923  1.15076923  1.15076923\n",
      "  1.25076923  1.65076923  1.75076923  2.55076923]\n"
     ]
    }
   ],
   "source": [
    "#Step 1: Substract the calc. mean from the observations \n",
    "de = t_a - np.mean(t_a)\n",
    "print(de)"
   ]
  },
  {
   "cell_type": "code",
   "execution_count": 8,
   "metadata": {},
   "outputs": [
    {
     "name": "stdout",
     "output_type": "stream",
     "text": [
      "[3.79950059e+00 3.41965444e+00 2.40011598e+00 2.40011598e+00\n",
      " 2.10026982e+00 1.82042367e+00 1.56057751e+00 1.32073136e+00\n",
      " 1.32073136e+00 1.32073136e+00 1.10088521e+00 1.10088521e+00\n",
      " 1.10088521e+00 9.01039053e-01 7.21192899e-01 7.21192899e-01\n",
      " 7.21192899e-01 7.21192899e-01 7.21192899e-01 5.61346746e-01\n",
      " 5.61346746e-01 4.21500592e-01 4.21500592e-01 4.21500592e-01\n",
      " 4.21500592e-01 3.01654438e-01 3.01654438e-01 3.01654438e-01\n",
      " 2.01808284e-01 2.01808284e-01 2.01808284e-01 2.01808284e-01\n",
      " 2.01808284e-01 2.01808284e-01 2.01808284e-01 1.21962130e-01\n",
      " 1.21962130e-01 1.21962130e-01 1.21962130e-01 1.21962130e-01\n",
      " 6.21159763e-02 6.21159763e-02 6.21159763e-02 6.21159763e-02\n",
      " 6.21159763e-02 6.21159763e-02 6.21159763e-02 6.21159763e-02\n",
      " 6.21159763e-02 6.21159763e-02 6.21159763e-02 2.22698225e-02\n",
      " 2.22698225e-02 2.22698225e-02 2.42366864e-03 2.42366864e-03\n",
      " 2.42366864e-03 2.42366864e-03 2.42366864e-03 2.42366864e-03\n",
      " 2.42366864e-03 2.42366864e-03 2.42366864e-03 2.42366864e-03\n",
      " 2.57751479e-03 2.57751479e-03 2.57751479e-03 2.57751479e-03\n",
      " 2.57751479e-03 2.27313609e-02 2.27313609e-02 2.27313609e-02\n",
      " 2.27313609e-02 2.27313609e-02 2.27313609e-02 2.27313609e-02\n",
      " 2.27313609e-02 2.27313609e-02 6.28852071e-02 6.28852071e-02\n",
      " 6.28852071e-02 1.23039053e-01 1.23039053e-01 1.23039053e-01\n",
      " 1.23039053e-01 1.23039053e-01 1.23039053e-01 1.23039053e-01\n",
      " 1.23039053e-01 1.23039053e-01 1.23039053e-01 2.03192899e-01\n",
      " 2.03192899e-01 2.03192899e-01 2.03192899e-01 2.03192899e-01\n",
      " 2.03192899e-01 2.03192899e-01 2.03192899e-01 3.03346746e-01\n",
      " 3.03346746e-01 3.03346746e-01 3.03346746e-01 3.03346746e-01\n",
      " 3.03346746e-01 3.03346746e-01 3.03346746e-01 3.03346746e-01\n",
      " 3.03346746e-01 4.23500592e-01 4.23500592e-01 5.63654438e-01\n",
      " 5.63654438e-01 5.63654438e-01 5.63654438e-01 5.63654438e-01\n",
      " 7.23808284e-01 7.23808284e-01 7.23808284e-01 9.03962130e-01\n",
      " 9.03962130e-01 9.03962130e-01 1.10411598e+00 1.10411598e+00\n",
      " 1.32426982e+00 1.32426982e+00 1.56442367e+00 2.72503905e+00\n",
      " 3.06519290e+00 6.50642367e+00]\n"
     ]
    }
   ],
   "source": [
    "#Step 2: Raise the result to power of 2\n",
    "a = np.power(de, 2)\n",
    "print(a)"
   ]
  },
  {
   "cell_type": "code",
   "execution_count": 10,
   "metadata": {},
   "outputs": [
    {
     "name": "stdout",
     "output_type": "stream",
     "text": [
      "[-3.53606384e+00 -3.18255415e+00 -2.23370496e+00 -2.23370496e+00\n",
      " -1.95464851e+00 -1.69420537e+00 -1.45237554e+00 -1.22915901e+00\n",
      " -1.22915901e+00 -1.22915901e+00 -1.02455580e+00 -1.02455580e+00\n",
      " -1.02455580e+00 -8.38565894e-01 -6.71189297e-01 -6.71189297e-01\n",
      " -6.71189297e-01 -6.71189297e-01 -6.71189297e-01 -5.22426008e-01\n",
      " -5.22426008e-01 -3.92276028e-01 -3.92276028e-01 -3.92276028e-01\n",
      " -3.92276028e-01 -2.80739356e-01 -2.80739356e-01 -2.80739356e-01\n",
      " -1.87815993e-01 -1.87815993e-01 -1.87815993e-01 -1.87815993e-01\n",
      " -1.87815993e-01 -1.87815993e-01 -1.87815993e-01 -1.13505938e-01\n",
      " -1.13505938e-01 -1.13505938e-01 -1.13505938e-01 -1.13505938e-01\n",
      " -5.78091916e-02 -5.78091916e-02 -5.78091916e-02 -5.78091916e-02\n",
      " -5.78091916e-02 -5.78091916e-02 -5.78091916e-02 -5.78091916e-02\n",
      " -5.78091916e-02 -5.78091916e-02 -5.78091916e-02 -2.07257538e-02\n",
      " -2.07257538e-02 -2.07257538e-02 -2.25562461e-03 -2.25562461e-03\n",
      " -2.25562461e-03 -2.25562461e-03 -2.25562461e-03 -2.25562461e-03\n",
      " -2.25562461e-03 -2.25562461e-03 -2.25562461e-03 -2.25562461e-03\n",
      " -2.39880390e-03 -2.39880390e-03 -2.39880390e-03 -2.39880390e-03\n",
      " -2.39880390e-03 -2.11552917e-02 -2.11552917e-02 -2.11552917e-02\n",
      " -2.11552917e-02 -2.11552917e-02 -2.11552917e-02 -2.11552917e-02\n",
      " -2.11552917e-02 -2.11552917e-02 -5.85250880e-02 -5.85250880e-02\n",
      " -5.85250880e-02 -1.14508193e-01 -1.14508193e-01 -1.14508193e-01\n",
      " -1.14508193e-01 -1.14508193e-01 -1.14508193e-01 -1.14508193e-01\n",
      " -1.14508193e-01 -1.14508193e-01 -1.14508193e-01 -1.89104606e-01\n",
      " -1.89104606e-01 -1.89104606e-01 -1.89104606e-01 -1.89104606e-01\n",
      " -1.89104606e-01 -1.89104606e-01 -1.89104606e-01 -2.82314328e-01\n",
      " -2.82314328e-01 -2.82314328e-01 -2.82314328e-01 -2.82314328e-01\n",
      " -2.82314328e-01 -2.82314328e-01 -2.82314328e-01 -2.82314328e-01\n",
      " -2.82314328e-01 -3.94137359e-01 -3.94137359e-01 -5.24573697e-01\n",
      " -5.24573697e-01 -5.24573697e-01 -5.24573697e-01 -5.24573697e-01\n",
      " -6.73623345e-01 -6.73623345e-01 -6.73623345e-01 -8.41286301e-01\n",
      " -8.41286301e-01 -8.41286301e-01 -1.02756257e+00 -1.02756257e+00\n",
      " -1.23245214e+00 -1.23245214e+00 -1.45595502e+00 -2.53609963e+00\n",
      " -2.85266905e+00 -6.05530355e+00]\n"
     ]
    }
   ],
   "source": [
    "#Step 3: Divide the array by -2*(std^2)\n",
    "b = np.divide(a, -1.0745)\n",
    "print(b)"
   ]
  },
  {
   "cell_type": "code",
   "execution_count": 11,
   "metadata": {},
   "outputs": [
    {
     "name": "stdout",
     "output_type": "stream",
     "text": [
      "[0.02912775 0.04147957 0.10713078 0.10713078 0.14161424 0.18374518\n",
      " 0.23401372 0.29253849 0.29253849 0.29253849 0.35895588 0.35895588\n",
      " 0.35895588 0.43233009 0.51110037 0.51110037 0.51110037 0.51110037\n",
      " 0.51110037 0.59307998 0.59307998 0.67551763 0.67551763 0.67551763\n",
      " 0.67551763 0.75522515 0.75522515 0.75522515 0.82876719 0.82876719\n",
      " 0.82876719 0.82876719 0.82876719 0.82876719 0.82876719 0.8926989\n",
      " 0.8926989  0.8926989  0.8926989  0.8926989  0.94383002 0.94383002\n",
      " 0.94383002 0.94383002 0.94383002 0.94383002 0.94383002 0.94383002\n",
      " 0.94383002 0.94383002 0.94383002 0.97948755 0.97948755 0.97948755\n",
      " 0.99774692 0.99774692 0.99774692 0.99774692 0.99774692 0.99774692\n",
      " 0.99774692 0.99774692 0.99774692 0.99774692 0.99760407 0.99760407\n",
      " 0.99760407 0.99760407 0.99760407 0.97906691 0.97906691 0.97906691\n",
      " 0.97906691 0.97906691 0.97906691 0.97906691 0.97906691 0.97906691\n",
      " 0.94315458 0.94315458 0.94315458 0.89180463 0.89180463 0.89180463\n",
      " 0.89180463 0.89180463 0.89180463 0.89180463 0.89180463 0.89180463\n",
      " 0.89180463 0.82769992 0.82769992 0.82769992 0.82769992 0.82769992\n",
      " 0.82769992 0.82769992 0.82769992 0.75403663 0.75403663 0.75403663\n",
      " 0.75403663 0.75403663 0.75403663 0.75403663 0.75403663 0.75403663\n",
      " 0.75403663 0.67426143 0.67426143 0.5918076  0.5918076  0.5918076\n",
      " 0.5918076  0.5918076  0.50985784 0.50985784 0.50985784 0.43115557\n",
      " 0.43115557 0.43115557 0.3578782  0.3578782  0.29157671 0.29157671\n",
      " 0.23317757 0.07917461 0.05769014 0.00234539]\n"
     ]
    }
   ],
   "source": [
    "#Step 4: Use the exponential function\n",
    "c = np.exp(b)\n",
    "print(c)"
   ]
  },
  {
   "cell_type": "code",
   "execution_count": 12,
   "metadata": {
    "scrolled": true
   },
   "outputs": [
    {
     "name": "stdout",
     "output_type": "stream",
     "text": [
      "[0.01585686 0.02258107 0.05832092 0.05832092 0.07709338 0.10002904\n",
      " 0.12739473 0.15925503 0.15925503 0.15925503 0.19541199 0.19541199\n",
      " 0.19541199 0.23535618 0.27823793 0.27823793 0.27823793 0.27823793\n",
      " 0.27823793 0.32286681 0.32286681 0.36774504 0.36774504 0.36774504\n",
      " 0.36774504 0.41113702 0.41113702 0.41113702 0.45117257 0.45117257\n",
      " 0.45117257 0.45117257 0.45117257 0.45117257 0.45117257 0.48597635\n",
      " 0.48597635 0.48597635 0.48597635 0.48597635 0.51381163 0.51381163\n",
      " 0.51381163 0.51381163 0.51381163 0.51381163 0.51381163 0.51381163\n",
      " 0.51381163 0.51381163 0.51381163 0.53322323 0.53322323 0.53322323\n",
      " 0.54316344 0.54316344 0.54316344 0.54316344 0.54316344 0.54316344\n",
      " 0.54316344 0.54316344 0.54316344 0.54316344 0.54308568 0.54308568\n",
      " 0.54308568 0.54308568 0.54308568 0.53299424 0.53299424 0.53299424\n",
      " 0.53299424 0.53299424 0.53299424 0.53299424 0.53299424 0.53299424\n",
      " 0.51344392 0.51344392 0.51344392 0.48548952 0.48548952 0.48548952\n",
      " 0.48548952 0.48548952 0.48548952 0.48548952 0.48548952 0.48548952\n",
      " 0.48548952 0.45059156 0.45059156 0.45059156 0.45059156 0.45059156\n",
      " 0.45059156 0.45059156 0.45059156 0.41049    0.41049    0.41049\n",
      " 0.41049    0.41049    0.41049    0.41049    0.41049    0.41049\n",
      " 0.41049    0.36706118 0.36706118 0.32217414 0.32217414 0.32217414\n",
      " 0.32217414 0.32217414 0.27756151 0.27756151 0.27756151 0.23471678\n",
      " 0.23471678 0.23471678 0.19482531 0.19482531 0.15873145 0.15873145\n",
      " 0.12693954 0.04310187 0.03140593 0.00127681]\n"
     ]
    }
   ],
   "source": [
    "#Step 5: Multiply the array by std*(2*Pi)^.5\n",
    "d = np.multiply(c,.54439)\n",
    "print(d)"
   ]
  },
  {
   "cell_type": "code",
   "execution_count": 13,
   "metadata": {
    "scrolled": true
   },
   "outputs": [
    {
     "data": {
      "image/png": "[encoded data removed]",
      "text/plain": [
       "<matplotlib.figure.Figure at 0x1a146f3160>"
      ]
     },
     "metadata": {},
     "output_type": "display_data"
    }
   ],
   "source": [
    "#Step 6: Plotting shows that Body temperature tends to a Normal Distribution\n",
    "_ = plt.plot(t_a, d, marker='.', linestyle ='none')\n",
    "_ = plt.xlabel('Obs Body Temperature')\n",
    "_ = plt.title(\"Normal Distribution plot\")\n",
    "plt.show()"
   ]
  },
  {
   "cell_type": "markdown",
   "metadata": {},
   "source": [
    "## 2. Is the sample size large? Are the observations independent?\n",
    "According to the requirements of the Central Limit Theorem for size of sample and independent observations:\n",
    "\n",
    "I can conclude that my sample size meets the requirement of n>30. The sample size is 130, which is bigger than 30 and total sample size is less than the 10% of the population size of body temperature. "
   ]
  },
  {
   "cell_type": "markdown",
   "metadata": {},
   "source": [
    "## 3. Is the true population mean really 98.6 degrees F?"
   ]
  },
  {
   "cell_type": "code",
   "execution_count": 14,
   "metadata": {},
   "outputs": [
    {
     "name": "stdout",
     "output_type": "stream",
     "text": [
      "p-value: 0.0\n",
      "mean: 98.249\n"
     ]
    }
   ],
   "source": [
    "#i) Use Bootstrap hypothesis testing with 100k samples.\n",
    "# Mean of observed sample is 98.4 degrees F. Thus test statistic is the mean\n",
    "# Ho: mean equal 98.24 Ha: mean not equal 98.24\n",
    "\n",
    "ta_bsrep = np.empty(100000)\n",
    "\n",
    "size = len(ta_bsrep)\n",
    "\n",
    "for i in range(size):\n",
    "    ta_sample = np.random.choice(t_a, len(t_a))\n",
    "    ta_bsrep[i] = np.mean(ta_sample)\n",
    "    \n",
    "p = np.sum(ta_bsrep >= 98.6) / size\n",
    "\n",
    "print('p-value: {}'.format(p))\n",
    "print('mean: {:0.5}'.format(np.mean(ta_bsrep)))\n"
   ]
  },
  {
   "cell_type": "markdown",
   "metadata": {},
   "source": [
    "Based on the result of a p_value of 0, it can be concluded that the probability of obtaining a result as extreme as for 98.6 is not possible."
   ]
  },
  {
   "cell_type": "code",
   "execution_count": 15,
   "metadata": {},
   "outputs": [
    {
     "name": "stdout",
     "output_type": "stream",
     "text": [
      "Z score:-5.4759\n"
     ]
    }
   ],
   "source": [
    "#i) Using Z test for onw sample\n",
    "#Ho: mean equal 98.24 Ha: mean not equal 98.24\n",
    "\n",
    "mean = np.mean(t_a)\n",
    "s_sqr = np.sqrt(130)\n",
    "stde = np.std(t_a)/s_sqr  \n",
    " \n",
    "z_t = (mean - 98.6)/stde\n",
    "print('Z score:{:.05}'.format(z_t))\n"
   ]
  },
  {
   "cell_type": "markdown",
   "metadata": {},
   "source": [
    "For this particular case, given the calculated Z value, I will accept the null hypothesis that population is equal to 98.24 with a confidence acceptance of 95% for the given samples."
   ]
  },
  {
   "cell_type": "markdown",
   "metadata": {},
   "source": [
    "## ii) Would you use a one-sample or two-sample test? Why?\n",
    "\n",
    "For this particular case: only one variable with one population mean is being anlyzing, using a one-sample test is sufficient."
   ]
  },
  {
   "cell_type": "markdown",
   "metadata": {},
   "source": [
    "## iii) Test: Z vs t?\n",
    "\n",
    "Although the population σ is unknown, I proved that Temperature observations follow the Normal Distribution so I can infer that the sample mean is a good estimator of the population σ. Thus, I will use the Z test."
   ]
  },
  {
   "cell_type": "markdown",
   "metadata": {},
   "source": [
    "## iv)  How is the result be different if using the other test? Why?"
   ]
  },
  {
   "cell_type": "code",
   "execution_count": 16,
   "metadata": {
    "scrolled": true
   },
   "outputs": [
    {
     "name": "stdout",
     "output_type": "stream",
     "text": [
      "t-score: -5.45482\n",
      "p-value: 0.0\n"
     ]
    }
   ],
   "source": [
    "t_ta = stats.ttest_1samp(t_a, 98.6 )\n",
    "print('t-score: {}\\np-value: {}'.format(round(t_ta.statistic, 5), round(t_ta.pvalue, 5)))"
   ]
  },
  {
   "cell_type": "markdown",
   "metadata": {},
   "source": [
    "For this particular situation: it can be observe that the Z-score and t-score have minimun difference. There is the possibility of using a lower sample than 30 to find out if a bigger difference between them exists."
   ]
  },
  {
   "cell_type": "markdown",
   "metadata": {},
   "source": [
    "## 4. Draw a small sample of size 10 from the data and repeat both frequentist tests.\n",
    "ii)Which one is the correct one to use?\n",
    "iii)What do you notice? What does this tell you about the difference in application of the t and z statistic?"
   ]
  },
  {
   "cell_type": "code",
   "execution_count": 17,
   "metadata": {
    "scrolled": true
   },
   "outputs": [
    {
     "name": "stdout",
     "output_type": "stream",
     "text": [
      "t-score: -1.057\n",
      "p-value: 0.3179\n"
     ]
    }
   ],
   "source": [
    "## Draw a small sample\n",
    "sa_temp = np.random.choice(t_a, size=10)\n",
    "\n",
    "## Use t-statistics\n",
    "t_sa = stats.ttest_1samp(sa_temp, 98.6)\n",
    "print('t-score: {:0.4}\\np-value: {:0.4}'.format(t_sa.statistic, t_sa.pvalue))\n"
   ]
  },
  {
   "cell_type": "code",
   "execution_count": 18,
   "metadata": {},
   "outputs": [
    {
     "name": "stdout",
     "output_type": "stream",
     "text": [
      "mean: 98.23\n",
      "p-value: 0.3322\n"
     ]
    }
   ],
   "source": [
    "#Parameters for n=10\n",
    "sa_mean = np.mean(sa_temp)\n",
    "sa_std = np.std(sa_temp)/3.16   #Sample n=10 --> square root of 10 = 3.16\n",
    "\n",
    "print('mean: {:0.4}'.format(sa_mean))\n",
    "print('p-value: {:0.4}'.format(sa_std))\n",
    "\n"
   ]
  },
  {
   "cell_type": "code",
   "execution_count": 19,
   "metadata": {},
   "outputs": [
    {
     "name": "stdout",
     "output_type": "stream",
     "text": [
      "Z score:-1.1137\n"
     ]
    }
   ],
   "source": [
    "## Use Z-statistics\n",
    "z_small =(sa_mean - 98.6)/sa_std\n",
    "print('Z score:{:.05}'.format(z_small))"
   ]
  },
  {
   "cell_type": "markdown",
   "metadata": {},
   "source": [
    "## t-test vs z-test\n",
    "ii) Given the small sample (n = 10) and that population σ is unknown, the best statistics test is the t-distribution.\n",
    "\n",
    "iii) Tells that even with such small sample, the difference in scores are minimal."
   ]
  },
  {
   "cell_type": "markdown",
   "metadata": {},
   "source": [
    "## 5. At what temperature should we consider someone's temperature to be \"abnormal\"?\n",
    "i) As in the previous example, try calculating everything using the boostrap approach, as well as the frequentist approach.Start by computing the margin of error and confidence interval. When calculating the confidence interval, \n",
    "keep in mind that you should use the appropriate formula for one draw, and not N draws"
   ]
  },
  {
   "cell_type": "code",
   "execution_count": 20,
   "metadata": {
    "scrolled": true
   },
   "outputs": [
    {
     "name": "stdout",
     "output_type": "stream",
     "text": [
      "sample mean: 98.25\n",
      "sample standard deviation: 0.7304\n",
      "\n"
     ]
    }
   ],
   "source": [
    "#Parameters of Original Sample\n",
    "t_am = np.mean(t_a)\n",
    "t_as = np.std(t_a)\n",
    "print('sample mean: {:0.4}\\nsample standard deviation: {:0.4}\\n'.format(t_am,t_as))"
   ]
  },
  {
   "cell_type": "code",
   "execution_count": 21,
   "metadata": {
    "scrolled": true
   },
   "outputs": [
    {
     "name": "stdout",
     "output_type": "stream",
     "text": [
      "p-value high: 0.0\n",
      "p-value low: 0.0\n",
      "95% confidence interval: 98.123 - 98.375\n",
      "margin of error: +/-0.12549\n",
      "\n",
      "\n",
      "98.24912637692306\n"
     ]
    }
   ],
   "source": [
    "#i) Calculates p value using 100k boostrap replicates\n",
    "boot_rep = np.empty(100000)\n",
    "\n",
    "size = len(boot_rep)\n",
    "\n",
    "for i in range(size):\n",
    "    boot_s = np.random.choice(t_a, size=len(t_a))\n",
    "    boot_rep[i] = np.mean(boot_s)\n",
    "\n",
    "phigh = np.sum(boot_rep > 99)/ len(boot_rep)\n",
    "print('p-value high: {}'.format(phigh))\n",
    "plow= np.sum(boot_rep < 97)/len(boot_rep)\n",
    "print('p-value low: {}'.format(plow))\n",
    "\n",
    "##calculate the confidence interval and the margin of error\n",
    "\n",
    "ci = np.percentile(boot_rep, [2.5, 97.5])\n",
    "r_m = np.mean(boot_rep)\n",
    "\n",
    "print('95% confidence interval: {:0.5} - {:0.5}'.format(ci[0], ci[1]))\n",
    "print('margin of error: +/-{:0.5}\\n\\n'.format((ci[1] - r_m)))\n",
    "print(r_m)"
   ]
  },
  {
   "cell_type": "markdown",
   "metadata": {},
   "source": [
    "Based on information found on medical sites, the normal body temperature of an adult is within the mean rage of 97-99 F. For our particular samples, we can conclude that none of the observations are abnormal."
   ]
  },
  {
   "cell_type": "markdown",
   "metadata": {},
   "source": [
    "## 6. Is there a significant difference between males and females in normal temperature?\n",
    "What testing approach did you use and why?\n",
    "Write a story with your conclusion in the context of the original problem."
   ]
  },
  {
   "cell_type": "code",
   "execution_count": 22,
   "metadata": {},
   "outputs": [
    {
     "name": "stdout",
     "output_type": "stream",
     "text": [
      "Of the 130 participants, 65 are female and 65 are male.\n"
     ]
    }
   ],
   "source": [
    "males = df[df.gender == 'M']\n",
    "females = df[df.gender == 'F']\n",
    "\n",
    "print('Of the {} participants, {} are female and {} are male.'.format(len(males + females), len(females), len(males)))"
   ]
  },
  {
   "cell_type": "code",
   "execution_count": 23,
   "metadata": {},
   "outputs": [
    {
     "data": {
      "image/png": "[encoded data removed]",
      "text/plain": [
       "<matplotlib.figure.Figure at 0x1a14771320>"
      ]
     },
     "metadata": {},
     "output_type": "display_data"
    }
   ],
   "source": [
    "# Plot a boxplot\n",
    "sns.boxplot(x = 'gender', y = 'temperature', data=df)\n",
    "\n",
    "sns.set(rc={\"figure.figsize\": (12, 8)})\n",
    "plt.style.use('fivethirtyeight')\n",
    "\n",
    "_ = plt.xlabel('Gender')\n",
    "_ = plt.ylabel('Temp')\n",
    "_ = plt.title('Body Temp by Gender')\n",
    "\n",
    "plt.show();\n"
   ]
  },
  {
   "cell_type": "code",
   "execution_count": 24,
   "metadata": {
    "scrolled": true
   },
   "outputs": [
    {
     "data": {
      "image/png": "[encoded data removed]",
      "text/plain": [
       "<matplotlib.figure.Figure at 0x1a14a8f668>"
      ]
     },
     "metadata": {},
     "output_type": "display_data"
    }
   ],
   "source": [
    "# Both samples normally distributed?\n",
    "sns.set(rc={\"figure.figsize\": (12, 8)})\n",
    "plt.style.use('fivethirtyeight')\n",
    "\n",
    "# Calculate ECDFs for males/females\n",
    "x_ma, y_ma = ecdf(males.temperature)\n",
    "x_fem, y_fem = ecdf(females.temperature)\n",
    "\n",
    "# Generate plot\n",
    "_ = plt.plot(x_ma, y_ma, marker = '.', linestyle = 'none', color='b')\n",
    "_ = plt.plot(x_fem, y_fem, marker='.', linestyle='none', color='g')\n",
    "\n",
    "# Draw 100K random samples from a normal distribution\n",
    "m_norm_dist = np.random.normal(np.mean(males.temperature), np.std(males.temperature), 100000)\n",
    "mnd_x, mnd_y = ecdf(m_norm_dist)\n",
    "_ = plt.plot(mnd_x, mnd_y, color='b', alpha=0.5)\n",
    "\n",
    "# Draw 100K random samples from a normal distribution\n",
    "f_norm_dist = np.random.normal(np.mean(females.temperature), np.std(females.temperature), 100000)\n",
    "fnd_x, fnd_y = ecdf(f_norm_dist)\n",
    "_ = plt.plot(fnd_x, fnd_y, color='g', alpha=0.5)\n",
    "\n",
    "# Make the margins nice\n",
    "plt.margins = 0.02\n",
    "\n",
    "# Label the axes\n",
    "_ = plt.xlabel('Gender')\n",
    "_ = plt.ylabel('ECDF')\n",
    "_ = plt.title('CDFs of males v. females')\n",
    "_ = plt.legend(('males', 'females'), loc='lower right', fontsize='large', markerscale=2)\n",
    "\n",
    "plt.show()"
   ]
  },
  {
   "cell_type": "code",
   "execution_count": 25,
   "metadata": {
    "scrolled": true
   },
   "outputs": [
    {
     "name": "stdout",
     "output_type": "stream",
     "text": [
      "Male mean: 98.26615384615388\n",
      "Female mean: 98.2323076923077\n",
      "Male variance: 0.4031621301775148\n",
      "Female variance: 0.6631100591715965\n"
     ]
    }
   ],
   "source": [
    "# Variables\n",
    "t_m = males.temperature\n",
    "t_f = females.temperature\n",
    "\n",
    "# Common Parameteres\n",
    "m_m = np.mean(t_m)\n",
    "f_m = np.mean(t_f)\n",
    "m_v = np.var(t_m)\n",
    "f_v = np.var(t_f)\n",
    "print('Male mean: {}\\nFemale mean: {}'.format(m_m, f_m))\n",
    "print('Male variance: {}\\nFemale variance: {}'.format(m_v, f_v))"
   ]
  },
  {
   "cell_type": "code",
   "execution_count": 26,
   "metadata": {},
   "outputs": [
    {
     "name": "stdout",
     "output_type": "stream",
     "text": [
      "Bootstrap verification:\n",
      "Male average: 98.26616707692308\n",
      "Female average: 98.23396215384616\n"
     ]
    }
   ],
   "source": [
    "# Are the means equal? Confirm with bootstrap. H0: female_m = male_m\n",
    "\n",
    "size = 10000\n",
    "\n",
    "b_rep_m = np.empty(size)\n",
    "\n",
    "for i in range(size):\n",
    "    b_s_male = np.random.choice(t_m, len(t_m))\n",
    "    b_rep_m[i] = np.mean(b_s_male)\n",
    "\n",
    "mean_repm = np.mean(b_rep_m)   \n",
    "\n",
    "b_rep_f = np.empty(size)\n",
    "\n",
    "for i in range(size):\n",
    "    b_s_female = np.random.choice(t_f, len(t_f))\n",
    "    b_rep_f[i] = np.mean(b_s_female)\n",
    "\n",
    "mean_repf = np.mean(b_rep_f)\n",
    "\n",
    "print('Bootstrap verification:\\nMale average: {}\\nFemale average: {}'.format(mean_repm, mean_repf))"
   ]
  },
  {
   "cell_type": "code",
   "execution_count": 27,
   "metadata": {
    "scrolled": false
   },
   "outputs": [
    {
     "name": "stdout",
     "output_type": "stream",
     "text": [
      "Z value: 0.2642603230019808\n"
     ]
    }
   ],
   "source": [
    "# Perform Z-Test for 2 samples with alpha = .5 or Z value = 1.96 \n",
    "# Hypothesis: H0: female_mean = male_mean; Ha: female_mean not equal male_mean \n",
    "#Numerator\n",
    "mean_dif = m_m - f_m\n",
    "\n",
    "#Denominator\n",
    "var_di = (m_v + f_v)/65\n",
    "svar = np.sqrt(var_di)\n",
    "\n",
    "#Z value \n",
    "ztest = mean_dif/svar\n",
    "print('Z value: {}'.format(ztest))"
   ]
  },
  {
   "cell_type": "code",
   "execution_count": 28,
   "metadata": {},
   "outputs": [
    {
     "name": "stdout",
     "output_type": "stream",
     "text": [
      "0.6042103342629247\n"
     ]
    }
   ],
   "source": [
    "pval= stats.norm.cdf(ztest)\n",
    "print(pval)"
   ]
  },
  {
   "cell_type": "markdown",
   "metadata": {},
   "source": [
    "From my analysis, I do not reject my null hyphotesis sine my Z value of .2642 is within the appropriate range of Z = 1.96. This means that gender does not play a role in the body temperature."
   ]
  }
 ],
 "metadata": {
  "kernelspec": {
   "display_name": "Python 3",
   "language": "python",
   "name": "python3"
  },
  "language_info": {
   "codemirror_mode": {
    "name": "ipython",
    "version": 3
   },
   "file_extension": ".py",
   "mimetype": "text/x-python",
   "name": "python",
   "nbconvert_exporter": "python",
   "pygments_lexer": "ipython3",
   "version": "3.6.4"
  }
 },
 "nbformat": 4,
 "nbformat_minor": 1
}
