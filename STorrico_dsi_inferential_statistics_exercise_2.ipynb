{
 "cells": [
  {
   "cell_type": "markdown",
   "metadata": {},
   "source": [
    "# Examining Racial Discrimination in the US Job Market\n",
    "\n",
    "### Background\n",
    "Racial discrimination continues to be pervasive in cultures throughout the world. Researchers examined the level of racial discrimination in the United States labor market by randomly assigning identical résumés to black-sounding or white-sounding names and observing the impact on requests for interviews from employers.\n",
    "\n",
    "### Data\n",
    "In the dataset provided, each row represents a resume. The 'race' column has two values, 'b' and 'w', indicating black-sounding and white-sounding. The column 'call' has two values, 1 and 0, indicating whether the resume received a call from employers or not.\n",
    "\n",
    "Note that the 'b' and 'w' values in race are assigned randomly to the resumes when presented to the employer."
   ]
  },
  {
   "cell_type": "markdown",
   "metadata": {},
   "source": [
    "### Exercises\n",
    "You will perform a statistical analysis to establish whether race has a significant impact on the rate of callbacks for resumes.\n",
    "\n",
    "Answer the following questions **in this notebook below and submit to your Github account**. \n",
    "\n",
    "   1. What test is appropriate for this problem? Does CLT apply?\n",
    "   2. What are the null and alternate hypotheses?\n",
    "   3. Compute margin of error, confidence interval, and p-value. Try using both the bootstrapping and the frequentist statistical approaches.\n",
    "   4. Write a story describing the statistical significance in the context or the original problem.\n",
    "   5. Does your analysis mean that race/name is the most important factor in callback success? Why or why not? If not, how would you amend your analysis?\n",
    "\n",
    "You can include written notes in notebook cells using Markdown: \n",
    "   - In the control panel at the top, choose Cell > Cell Type > Markdown\n",
    "   - Markdown syntax: http://nestacms.com/docs/creating-content/markdown-cheat-sheet\n",
    "\n",
    "#### Resources\n",
    "+ Experiment information and data source: http://www.povertyactionlab.org/evaluation/discrimination-job-market-united-states\n",
    "+ Scipy statistical methods: http://docs.scipy.org/doc/scipy/reference/stats.html \n",
    "+ Markdown syntax: http://nestacms.com/docs/creating-content/markdown-cheat-sheet\n",
    "+ Formulas for the Bernoulli distribution: https://en.wikipedia.org/wiki/Bernoulli_distribution"
   ]
  },
  {
   "cell_type": "code",
   "execution_count": 1,
   "metadata": {},
   "outputs": [],
   "source": [
    "import pandas as pd\n",
    "import numpy as np\n",
    "from scipy import stats\n",
    "import matplotlib.pyplot as plt\n",
    "import matplotlib.mlab as mlab\n",
    "import seaborn as sns\n",
    "import pylab"
   ]
  },
  {
   "cell_type": "code",
   "execution_count": 2,
   "metadata": {},
   "outputs": [],
   "source": [
    "data = pd.io.stata.read_stata('data/us_job_market_discrimination.dta')"
   ]
  },
  {
   "cell_type": "code",
   "execution_count": 3,
   "metadata": {
    "scrolled": false
   },
   "outputs": [
    {
     "data": {
      "text/plain": [
       "235.0"
      ]
     },
     "execution_count": 3,
     "metadata": {},
     "output_type": "execute_result"
    }
   ],
   "source": [
    "# number of callbacks for white-sounding names\n",
    "sum(data[data.race=='w'].call)"
   ]
  },
  {
   "cell_type": "code",
   "execution_count": 4,
   "metadata": {},
   "outputs": [
    {
     "data": {
      "text/html": [
       "<div>\n",
       "<style scoped>\n",
       "    .dataframe tbody tr th:only-of-type {\n",
       "        vertical-align: middle;\n",
       "    }\n",
       "\n",
       "    .dataframe tbody tr th {\n",
       "        vertical-align: top;\n",
       "    }\n",
       "\n",
       "    .dataframe thead th {\n",
       "        text-align: right;\n",
       "    }\n",
       "</style>\n",
       "<table border=\"1\" class=\"dataframe\">\n",
       "  <thead>\n",
       "    <tr style=\"text-align: right;\">\n",
       "      <th></th>\n",
       "      <th>id</th>\n",
       "      <th>ad</th>\n",
       "      <th>education</th>\n",
       "      <th>ofjobs</th>\n",
       "      <th>yearsexp</th>\n",
       "      <th>honors</th>\n",
       "      <th>volunteer</th>\n",
       "      <th>military</th>\n",
       "      <th>empholes</th>\n",
       "      <th>occupspecific</th>\n",
       "      <th>...</th>\n",
       "      <th>compreq</th>\n",
       "      <th>orgreq</th>\n",
       "      <th>manuf</th>\n",
       "      <th>transcom</th>\n",
       "      <th>bankreal</th>\n",
       "      <th>trade</th>\n",
       "      <th>busservice</th>\n",
       "      <th>othservice</th>\n",
       "      <th>missind</th>\n",
       "      <th>ownership</th>\n",
       "    </tr>\n",
       "  </thead>\n",
       "  <tbody>\n",
       "    <tr>\n",
       "      <th>0</th>\n",
       "      <td>b</td>\n",
       "      <td>1</td>\n",
       "      <td>4</td>\n",
       "      <td>2</td>\n",
       "      <td>6</td>\n",
       "      <td>0</td>\n",
       "      <td>0</td>\n",
       "      <td>0</td>\n",
       "      <td>1</td>\n",
       "      <td>17</td>\n",
       "      <td>...</td>\n",
       "      <td>1.0</td>\n",
       "      <td>0.0</td>\n",
       "      <td>1.0</td>\n",
       "      <td>0.0</td>\n",
       "      <td>0.0</td>\n",
       "      <td>0.0</td>\n",
       "      <td>0.0</td>\n",
       "      <td>0.0</td>\n",
       "      <td>0.0</td>\n",
       "      <td></td>\n",
       "    </tr>\n",
       "    <tr>\n",
       "      <th>1</th>\n",
       "      <td>b</td>\n",
       "      <td>1</td>\n",
       "      <td>3</td>\n",
       "      <td>3</td>\n",
       "      <td>6</td>\n",
       "      <td>0</td>\n",
       "      <td>1</td>\n",
       "      <td>1</td>\n",
       "      <td>0</td>\n",
       "      <td>316</td>\n",
       "      <td>...</td>\n",
       "      <td>1.0</td>\n",
       "      <td>0.0</td>\n",
       "      <td>1.0</td>\n",
       "      <td>0.0</td>\n",
       "      <td>0.0</td>\n",
       "      <td>0.0</td>\n",
       "      <td>0.0</td>\n",
       "      <td>0.0</td>\n",
       "      <td>0.0</td>\n",
       "      <td></td>\n",
       "    </tr>\n",
       "    <tr>\n",
       "      <th>2</th>\n",
       "      <td>b</td>\n",
       "      <td>1</td>\n",
       "      <td>4</td>\n",
       "      <td>1</td>\n",
       "      <td>6</td>\n",
       "      <td>0</td>\n",
       "      <td>0</td>\n",
       "      <td>0</td>\n",
       "      <td>0</td>\n",
       "      <td>19</td>\n",
       "      <td>...</td>\n",
       "      <td>1.0</td>\n",
       "      <td>0.0</td>\n",
       "      <td>1.0</td>\n",
       "      <td>0.0</td>\n",
       "      <td>0.0</td>\n",
       "      <td>0.0</td>\n",
       "      <td>0.0</td>\n",
       "      <td>0.0</td>\n",
       "      <td>0.0</td>\n",
       "      <td></td>\n",
       "    </tr>\n",
       "    <tr>\n",
       "      <th>3</th>\n",
       "      <td>b</td>\n",
       "      <td>1</td>\n",
       "      <td>3</td>\n",
       "      <td>4</td>\n",
       "      <td>6</td>\n",
       "      <td>0</td>\n",
       "      <td>1</td>\n",
       "      <td>0</td>\n",
       "      <td>1</td>\n",
       "      <td>313</td>\n",
       "      <td>...</td>\n",
       "      <td>1.0</td>\n",
       "      <td>0.0</td>\n",
       "      <td>1.0</td>\n",
       "      <td>0.0</td>\n",
       "      <td>0.0</td>\n",
       "      <td>0.0</td>\n",
       "      <td>0.0</td>\n",
       "      <td>0.0</td>\n",
       "      <td>0.0</td>\n",
       "      <td></td>\n",
       "    </tr>\n",
       "    <tr>\n",
       "      <th>4</th>\n",
       "      <td>b</td>\n",
       "      <td>1</td>\n",
       "      <td>3</td>\n",
       "      <td>3</td>\n",
       "      <td>22</td>\n",
       "      <td>0</td>\n",
       "      <td>0</td>\n",
       "      <td>0</td>\n",
       "      <td>0</td>\n",
       "      <td>313</td>\n",
       "      <td>...</td>\n",
       "      <td>1.0</td>\n",
       "      <td>1.0</td>\n",
       "      <td>0.0</td>\n",
       "      <td>0.0</td>\n",
       "      <td>0.0</td>\n",
       "      <td>0.0</td>\n",
       "      <td>0.0</td>\n",
       "      <td>1.0</td>\n",
       "      <td>0.0</td>\n",
       "      <td>Nonprofit</td>\n",
       "    </tr>\n",
       "  </tbody>\n",
       "</table>\n",
       "<p>5 rows × 65 columns</p>\n",
       "</div>"
      ],
      "text/plain": [
       "  id ad  education  ofjobs  yearsexp  honors  volunteer  military  empholes  \\\n",
       "0  b  1          4       2         6       0          0         0         1   \n",
       "1  b  1          3       3         6       0          1         1         0   \n",
       "2  b  1          4       1         6       0          0         0         0   \n",
       "3  b  1          3       4         6       0          1         0         1   \n",
       "4  b  1          3       3        22       0          0         0         0   \n",
       "\n",
       "   occupspecific    ...      compreq  orgreq  manuf  transcom  bankreal trade  \\\n",
       "0             17    ...          1.0     0.0    1.0       0.0       0.0   0.0   \n",
       "1            316    ...          1.0     0.0    1.0       0.0       0.0   0.0   \n",
       "2             19    ...          1.0     0.0    1.0       0.0       0.0   0.0   \n",
       "3            313    ...          1.0     0.0    1.0       0.0       0.0   0.0   \n",
       "4            313    ...          1.0     1.0    0.0       0.0       0.0   0.0   \n",
       "\n",
       "  busservice othservice  missind  ownership  \n",
       "0        0.0        0.0      0.0             \n",
       "1        0.0        0.0      0.0             \n",
       "2        0.0        0.0      0.0             \n",
       "3        0.0        0.0      0.0             \n",
       "4        0.0        1.0      0.0  Nonprofit  \n",
       "\n",
       "[5 rows x 65 columns]"
      ]
     },
     "execution_count": 4,
     "metadata": {},
     "output_type": "execute_result"
    }
   ],
   "source": [
    "data.head()"
   ]
  },
  {
   "cell_type": "markdown",
   "metadata": {
    "collapsed": true
   },
   "source": [
    "<div class=\"span5 alert alert-success\">\n",
    "<p>EXPLORATORY DATA ANALYS</p>\n",
    "</div>"
   ]
  },
  {
   "cell_type": "code",
   "execution_count": 6,
   "metadata": {},
   "outputs": [],
   "source": [
    "w = data[data.race=='w']\n",
    "b = data[data.race=='b']"
   ]
  },
  {
   "cell_type": "code",
   "execution_count": 7,
   "metadata": {},
   "outputs": [
    {
     "name": "stdout",
     "output_type": "stream",
     "text": [
      "                      Callback  No Callback  Total % Success\n",
      "Black-sounding names       157         2278   2435     6.45%\n",
      "White-sounding names       235         2200   2435     9.65%\n",
      "Total Callbacks: 392.0 Total N: 4870\n"
     ]
    }
   ],
   "source": [
    "# Black-sounding names\n",
    "b_yes = np.sum(b.call)\n",
    "b_n1 = len(b)\n",
    "b_p = (b_yes / b_n1)\n",
    "\n",
    "\n",
    "# White-sounding names\n",
    "w_yes = np.sum(w.call)\n",
    "w_n2 = len(w)\n",
    "w_p = (w_yes / w_n2)\n",
    "\n",
    "\n",
    "summary = {'Callback': np.array([b_yes, w_yes]).astype(int),\n",
    "        'No Callback': np.array([b_n1 - b_yes, w_n2 - w_yes]).astype(int),\n",
    "        'Total': np.array([b_n1, w_n2]).astype(int),\n",
    "        '% Success': np.array(['{:.2%}'.format(b_yes/b_n1), '{:.2%}'.format(w_yes/w_n2)])}\n",
    "\n",
    "tb2 = pd.DataFrame(summary, columns = ['Callback', 'No Callback', 'Total', '% Success'], \n",
    "                   index = ['Black-sounding names', 'White-sounding names'])\n",
    "print(tb2)\n",
    "\n",
    "total_yes = b_yes + w_yes\n",
    "total_cases = b_n1 + w_n2\n",
    "\n",
    "print('Total Callbacks: {}'.format(total_yes),\n",
    "      'Total N: {}'.format(total_cases))"
   ]
  },
  {
   "cell_type": "code",
   "execution_count": 8,
   "metadata": {},
   "outputs": [],
   "source": [
    "# ECDF Function\n",
    "\n",
    "def ecdf(data):\n",
    "    \"\"\"Compute ECDF for a one-dimensional array of measurements.\"\"\"\n",
    "\n",
    "    # Number of data points: n\n",
    "    n = len(data)\n",
    "\n",
    "    # x: sort the data\n",
    "    x = np.sort(data)\n",
    "\n",
    "    # y: range for y-axis\n",
    "    y = np.arange(1, n+1) / n\n",
    "\n",
    "    return x, y"
   ]
  },
  {
   "cell_type": "code",
   "execution_count": 9,
   "metadata": {},
   "outputs": [
    {
     "data": {
      "image/png": "[encoded data removed]",
      "text/plain": [
       "<matplotlib.figure.Figure at 0x1a15ddb8d0>"
      ]
     },
     "metadata": {},
     "output_type": "display_data"
    }
   ],
   "source": [
    "\n",
    "_ = plt.style.use('fivethirtyeight')\n",
    "_ = plt.rcParams[\"figure.figsize\"] = (10, 8)\n",
    "\n",
    "#Plot CDFs of callbacks for black- vs. white-sounding names\n",
    "b_samples = np.random.binomial(b_n1, b_p, size=10000)\n",
    "w_samples = np.random.binomial(w_n2, w_p, size=10000)\n",
    "\n",
    "bx, by = ecdf(b_samples)\n",
    "_ = plt.plot(bx, by, marker='.', linestyle='none')\n",
    "\n",
    "wx, wy = ecdf(w_samples)\n",
    "_ = plt.plot(wx, wy, marker='.', linestyle='none')\n",
    "\n",
    "plt.margins = 0.02\n",
    "_ = plt.xlabel('Number of callbacks')\n",
    "_ = plt.ylabel('CDF')\n",
    "_ = plt.title('Names Variable: Black vs. White')\n",
    "_ = plt.legend(('Black-sounding Names', 'White-sounding Names'), loc='lower right', fontsize='large', markerscale=2)"
   ]
  },
  {
   "cell_type": "markdown",
   "metadata": {},
   "source": [
    "<div class=\"span5 alert alert-success\">\n",
    "<p>Q1: Appropriate Test? Does CLT apply? and Q2 State your Hypothesis</p>\n",
    "</div>"
   ]
  },
  {
   "cell_type": "markdown",
   "metadata": {},
   "source": [
    "Q1.The CLT applies for the Gender and Call variables because the key requirements of having randon, indepedent variables that tend towards a Normal distribution are met as it can be observed in the CDF graph shown above. \n",
    "\n",
    "For this particular situation, the suggested test to use is the Z-test for proportions since each sample observation can result in either a success or a failure, the sample includes at least 10 successes and 10 failures. \n"
   ]
  },
  {
   "cell_type": "code",
   "execution_count": 10,
   "metadata": {},
   "outputs": [
    {
     "name": "stdout",
     "output_type": "stream",
     "text": [
      "True True True True\n"
     ]
    }
   ],
   "source": [
    "r1 = w_n2 * w_p >= 10\n",
    "r2 = b_n1 * b_p >= 10\n",
    "r3 = w_n2 * (1-w_p) >= 10\n",
    "r4 = b_n1 * (1-b_p) >= 10\n",
    "\n",
    "print(r1,r2,r3,r4)"
   ]
  },
  {
   "cell_type": "markdown",
   "metadata": {},
   "source": [
    "Q2. My hypothesis will be Ho: p1 = p2 and Ha: p1 - p2 ≠ 0 with alpha=.5"
   ]
  },
  {
   "cell_type": "code",
   "execution_count": 11,
   "metadata": {},
   "outputs": [
    {
     "name": "stdout",
     "output_type": "stream",
     "text": [
      "Z_value:-4.108412152434346\n"
     ]
    }
   ],
   "source": [
    "# Frequentist Approach --> Z test for proportions with Zvalue of 1.96\n",
    "\n",
    "p_total = (b_yes+ w_yes)/(w_n2 + b_n1)\n",
    "\n",
    "q= 1-p_total\n",
    "\n",
    "\n",
    "total_pn = np.sqrt((2*p_total*q)*(1/2435)) # Formula states (1/n1) + (1/n2)  \n",
    "\n",
    "z_value = (b_p - w_p)*(1/total_pn)\n",
    "\n",
    "print('Z_value:{}'.format(z_value))\n",
    "\n"
   ]
  },
  {
   "cell_type": "code",
   "execution_count": 13,
   "metadata": {
    "scrolled": false
   },
   "outputs": [
    {
     "name": "stdout",
     "output_type": "stream",
     "text": [
      "95% conf int for N: \t 0.07285185698623672 to 0.08813376929713082\n",
      "95% conf int for only Black: \t 0.05472122800904957 to 0.0742315440648724\n",
      "95% conf int for only White: \t 0.08478045877727557 to 0.10823802171553758\n"
     ]
    }
   ],
   "source": [
    "#95% confidence interval for N\n",
    "\n",
    "z_alpha = 1.96\n",
    "ci_high = p_total + z_alpha*(np.sqrt((p_total*q)*(1/total_cases)))\n",
    "ci_low = p_total - z_alpha*(np.sqrt((p_total*q* 1/total_cases)))\n",
    "\n",
    "#95% confidence interval for Black-sounded names\n",
    "\n",
    "q_b = 1-b_p\n",
    "ci_high_b = b_p + z_alpha*(np.sqrt((b_p*q_b)/b_n1))\n",
    "ci_low_b = b_p - z_alpha*(np.sqrt((b_p*(q_b))/b_n1))\n",
    "\n",
    "#95% confidence interval for White-sounded names\n",
    "\n",
    "q_w = 1-w_p\n",
    "ci_high_w = w_p + z_alpha*(np.sqrt((w_p * q_w)/w_n2))\n",
    "ci_low_w = w_p - z_alpha*(np.sqrt((w_p * q_w)/w_n2))\n",
    "\n",
    "print('95% conf int for N: \\t {} to {}'.format(ci_low, ci_high))\n",
    "print('95% conf int for only Black: \\t {} to {}'.format(ci_low_b, ci_high_b))\n",
    "print('95% conf int for only White: \\t {} to {}'.format(ci_low_w, ci_high_w))\n"
   ]
  },
  {
   "cell_type": "code",
   "execution_count": 14,
   "metadata": {},
   "outputs": [
    {
     "name": "stdout",
     "output_type": "stream",
     "text": [
      "Margin of err(black + white): \t 0.7640956155447047\n",
      "Margin of err(black): \t 0.9755158027911415\n",
      "Margin of err (white): \t 1.1728781469131009\n"
     ]
    }
   ],
   "source": [
    "moe_N = z_alpha*(np.sqrt((p_total*q)*(1/total_cases)))\n",
    "moe_b = z_alpha*(np.sqrt((b_p*q_b)/b_n1))\n",
    "moe_w = z_alpha*(np.sqrt((w_p*q_w)/w_n2))\n",
    "\n",
    "\n",
    "print('Margin of err(black + white): \\t {}'.format(moe_N *100))\n",
    "print('Margin of err(black): \\t {}'.format(moe_b * 100))\n",
    "print('Margin of err (white): \\t {}'.format(moe_w *100))"
   ]
  },
  {
   "cell_type": "code",
   "execution_count": 15,
   "metadata": {},
   "outputs": [
    {
     "data": {
      "image/png": "[encoded data removed]",
      "text/plain": [
       "<matplotlib.figure.Figure at 0x1a1bac4f60>"
      ]
     },
     "metadata": {},
     "output_type": "display_data"
    }
   ],
   "source": [
    "plt.style.use('fivethirtyeight')\n",
    "plt.rcParams[\"figure.figsize\"] = (10, 8)\n",
    "\n",
    "# Graph the Frequentist results\n",
    "x = np.linspace(- 0.06, 0.06, 100, endpoint=True)\n",
    "pdf = [stats.norm.pdf(_, loc=0, scale=moe_N) for _ in x]\n",
    "plt.plot(x, pdf, 'k-')\n",
    "plt.figsize = (10, 8)\n",
    "\n",
    "_ = plt.axvline(ci_high, color='red')\n",
    "_ = plt.axvline(ci_low, color='red')\n",
    "_ = plt.axvline(ci_high_b, color ='green')\n",
    "_ = plt.axvline(ci_low_b, color ='green')\n",
    "_ = plt.axvline(ci_high_w, color ='orange')\n",
    "_ = plt.axvline(ci_low_w, color ='orange')\n",
    "_ = plt.axvline(0, color='blue')\n",
    "_ = plt.text(0.022, 23, '95% Confidence \\n     Interval')\n",
    "_ = plt.title('Frequentist Approach');"
   ]
  },
  {
   "cell_type": "code",
   "execution_count": 16,
   "metadata": {
    "scrolled": true
   },
   "outputs": [
    {
     "name": "stdout",
     "output_type": "stream",
     "text": [
      "obs diff: -0.032032854209445585\n",
      "\n",
      "BOOTSTRAP RESULTS\n",
      "p-value: 1.0\n",
      "95% conf. int.: [-0.0137577   0.01396304]\n"
     ]
    }
   ],
   "source": [
    "#Bootstrap\n",
    "# Construct arrays of data: white-sounding names, black-sounding names\n",
    "all_callb = np.array([True] * int(b_yes) + [False] * int(w_yes))\n",
    "prop_diff = b_p - w_p\n",
    "\n",
    "size = 10000\n",
    "\n",
    "bs_reps_diff = np.empty(size)\n",
    "\n",
    "for i in range(size):\n",
    "    w_bs_replicates = np.sum(np.random.choice(all_callb, size=w_n2))\n",
    "    b_bs_replicates = np.sum(np.random.choice(all_callb, size=b_n1))\n",
    "    \n",
    "    bs_reps_diff[i] = (b_bs_replicates - w_bs_replicates)/total_cases\n",
    "    \n",
    "bs_p_value = np.sum(bs_reps_diff >= prop_diff) / len(bs_reps_diff)\n",
    "\n",
    "bs_ci = np.percentile(bs_reps_diff, [2.5, 97.5])\n",
    "bs_mean_diff = np.mean(bs_reps_diff)\n",
    "\n",
    "\n",
    "print('obs diff: {}\\n'.format(prop_diff))\n",
    "print('BOOTSTRAP RESULTS\\np-value: {}\\n95% conf. int.: {}'.format(bs_p_value, bs_ci))"
   ]
  },
  {
   "cell_type": "code",
   "execution_count": 17,
   "metadata": {
    "scrolled": false
   },
   "outputs": [
    {
     "data": {
      "image/png": "[encoded data removed]",
      "text/plain": [
       "<matplotlib.figure.Figure at 0x1a1f0383c8>"
      ]
     },
     "metadata": {},
     "output_type": "display_data"
    }
   ],
   "source": [
    "_ = plt.hist(bs_reps_diff, bins=20)\n",
    "_ = plt.axvline(prop_diff, color='red')\n",
    "_ = plt.axvline(np.max(bs_mean_diff), color='blue')\n",
    "_ = plt.xlabel('% Diff')\n",
    "_ = plt.ylabel('Frequency')\n",
    "_ = plt.title('Empirical v Bootstrap Proportional Differences')\n",
    "plt.show()"
   ]
  },
  {
   "cell_type": "markdown",
   "metadata": {},
   "source": [
    "<div class=\"span5 alert alert-success\">\n",
    "<p> Your answers to Q4 and Q5 here </p>\n",
    "</div>\n",
    "\n",
    "From my analysis, I concluded that my null hypothesis must be rejected with a 95% confidence level in favor of my alternative hypothesis. It proves that there is a preference from employers to callback resumes with white-sounding names than black-sounding names. The calculated margins of the errors add extra credibility to this analysis since they are within 1%. Even after doing a bootstrap replications for 10,000 samples, shows that the differences of the  empirical sample proportions and bootstraped sample proportions are within range. Thus, the empirical sample proportions could be used as good estimators of the actual population proportion.\n",
    "\n",
    "At this point, given that the researchers took the necessary steps to make this a RSS, will be interesting to see if other variables (education/experience) could play a role in not rejecting our null hypothesis.\n"
   ]
  }
 ],
 "metadata": {
  "kernelspec": {
   "display_name": "Python 3",
   "language": "python",
   "name": "python3"
  },
  "language_info": {
   "codemirror_mode": {
    "name": "ipython",
    "version": 3
   },
   "file_extension": ".py",
   "mimetype": "text/x-python",
   "name": "python",
   "nbconvert_exporter": "python",
   "pygments_lexer": "ipython3",
   "version": "3.6.4"
  }
 },
 "nbformat": 4,
 "nbformat_minor": 1
}
